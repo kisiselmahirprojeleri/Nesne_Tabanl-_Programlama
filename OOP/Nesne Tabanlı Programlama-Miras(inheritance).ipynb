{
 "cells": [
  {
   "cell_type": "markdown",
   "metadata": {},
   "source": [
    "# Nesne Tabanlı Programlama-Miras Alma(inheritance)\n",
    "\n",
    "Bu konuda **Nesne Tabanlı Programlama** inheritance(kalıtım ve miras alma) konusunu öğrenmeye çalışacağız.Inheritance veya kalıtım bir sınıfın başka bir sınıfın özelliklerini(attributes) ve methodlarını miras almasıdır.Peki inheritance ne işe yarar?Örneğin bir şirket çalışanlarını tasarlamak için sınıflar oluşturuyoruz.Bunun için yönetici proje direktörü işçi gibi sınıflar oluşturmamız gerekiyor.Aslında baktığımız zaman bu sınıfların hepsinin belli ortak methodları ve özellikleri bulunuyor.O zaman bu ortak özellikleri ve methodları tekrar tekrar bu sınıfların içinde yazmak yerine bir tane class tanımlayıp bu classların ortak özelliklerini ve methodlarını almalarını sağlayabailiriz."
   ]
  },
  {
   "cell_type": "code",
   "execution_count": 1,
   "metadata": {},
   "outputs": [],
   "source": [
    "class Çalısan():\n",
    "    def _init__(self,isim,maaş,departman):\n",
    "        self.isim = isim\n",
    "        self.maaş = maaş  #özellikleri tanmladık\n",
    "        self.departman = departman\n",
    "    def bilgileriGoster(self):\n",
    "        print(\"Çalışan Sınıfının Bilgileri......\")   \n",
    "    \n",
    "        \n",
    "        print(f\"\"\"\n",
    "        İsim: {self.isim}\n",
    "\n",
    "        Maaş: {self.maaş}\n",
    "\n",
    "        Departman: {self.departman}\n",
    "        \"\"\")\n",
    "\n",
    "    def departmanDegistir(self,yeni_departman):\n",
    "        print(\"Departman Değiştiriliyor\")\n",
    "        self.departman = yeni_departman\n",
    "    "
   ]
  },
  {
   "cell_type": "markdown",
   "metadata": {},
   "source": [
    "Çalışan sınıfını oluşturduk şimdi de yönetici sınıfını çalışsan sınıfından türetelim."
   ]
  },
  {
   "cell_type": "code",
   "execution_count": 2,
   "metadata": {},
   "outputs": [],
   "source": [
    "class Yönetici(Çalısan): # Çalışsan sınıfından miras aldık\n",
    "    pass # pass deyimi bir bloğu sonradan tanımlaamak istediğimiz zman kullanılan bir deyimdir"
   ]
  },
  {
   "cell_type": "code",
   "execution_count": null,
   "metadata": {},
   "outputs": [],
   "source": [
    "yönetici1 = Yönetici"
   ]
  },
  {
   "cell_type": "code",
   "execution_count": 4,
   "metadata": {},
   "outputs": [
    {
     "name": "stdout",
     "output_type": "stream",
     "text": [
      "Çalışan Sınıfının Bilgileri......\n"
     ]
    },
    {
     "ename": "AttributeError",
     "evalue": "'Yönetici' object has no attribute 'isim'",
     "output_type": "error",
     "traceback": [
      "\u001b[0;31m---------------------------------------------------------------------------\u001b[0m",
      "\u001b[0;31mAttributeError\u001b[0m                            Traceback (most recent call last)",
      "Cell \u001b[0;32mIn[4], line 1\u001b[0m\n\u001b[0;32m----> 1\u001b[0m \u001b[43myönetici1\u001b[49m\u001b[38;5;241;43m.\u001b[39;49m\u001b[43mbilgileriGoster\u001b[49m\u001b[43m(\u001b[49m\u001b[43m)\u001b[49m\n",
      "Cell \u001b[0;32mIn[1], line 11\u001b[0m, in \u001b[0;36mÇalısan.bilgileriGoster\u001b[0;34m(self)\u001b[0m\n\u001b[1;32m      6\u001b[0m \u001b[38;5;28;01mdef\u001b[39;00m \u001b[38;5;21mbilgileriGoster\u001b[39m(\u001b[38;5;28mself\u001b[39m):\n\u001b[1;32m      7\u001b[0m     \u001b[38;5;28mprint\u001b[39m(\u001b[38;5;124m\"\u001b[39m\u001b[38;5;124mÇalışan Sınıfının Bilgileri......\u001b[39m\u001b[38;5;124m\"\u001b[39m)   \n\u001b[1;32m     10\u001b[0m     \u001b[38;5;28mprint\u001b[39m(\u001b[38;5;124mf\u001b[39m\u001b[38;5;124m\"\"\"\u001b[39m\n\u001b[0;32m---> 11\u001b[0m \u001b[38;5;124m    İsim: \u001b[39m\u001b[38;5;132;01m{\u001b[39;00m\u001b[38;5;28;43mself\u001b[39;49m\u001b[38;5;241;43m.\u001b[39;49m\u001b[43misim\u001b[49m\u001b[38;5;132;01m}\u001b[39;00m\n\u001b[1;32m     12\u001b[0m \n\u001b[1;32m     13\u001b[0m \u001b[38;5;124m    Maaş: \u001b[39m\u001b[38;5;132;01m{\u001b[39;00m\u001b[38;5;28mself\u001b[39m\u001b[38;5;241m.\u001b[39mmaaş\u001b[38;5;132;01m}\u001b[39;00m\n\u001b[1;32m     14\u001b[0m \n\u001b[1;32m     15\u001b[0m \u001b[38;5;124m    Departman: \u001b[39m\u001b[38;5;132;01m{\u001b[39;00m\u001b[38;5;28mself\u001b[39m\u001b[38;5;241m.\u001b[39mdepartman\u001b[38;5;132;01m}\u001b[39;00m\n\u001b[1;32m     16\u001b[0m \u001b[38;5;124m    \u001b[39m\u001b[38;5;124m\"\"\"\u001b[39m)\n",
      "\u001b[0;31mAttributeError\u001b[0m: 'Yönetici' object has no attribute 'isim'"
     ]
    }
   ],
   "source": [
    "yönetici1.bilgileriGoster()"
   ]
  },
  {
   "cell_type": "markdown",
   "metadata": {},
   "source": [
    "Burada gördüğümüz gibi bütün özellikleri ve methodları miras aldığımız için kullanabiliyoruz."
   ]
  },
  {
   "cell_type": "code",
   "execution_count": null,
   "metadata": {},
   "outputs": [
    {
     "ename": "NameError",
     "evalue": "name 'diryönetici' is not defined",
     "output_type": "error",
     "traceback": [
      "\u001b[0;31m---------------------------------------------------------------------------\u001b[0m",
      "\u001b[0;31mNameError\u001b[0m                                 Traceback (most recent call last)",
      "Cell \u001b[0;32mIn[9], line 1\u001b[0m\n\u001b[0;32m----> 1\u001b[0m \u001b[43mdiryönetici\u001b[49m(\u001b[38;5;241m1\u001b[39m)\n",
      "\u001b[0;31mNameError\u001b[0m: name 'diryönetici' is not defined"
     ]
    }
   ],
   "source": [
    "diryönetici(1)"
   ]
  },
  {
   "cell_type": "markdown",
   "metadata": {},
   "source": [
    "peki biz yönetici sınıfına ekstra methodlar ve özellikler ekleyebilir miyiz?"
   ]
  },
  {
   "cell_type": "code",
   "execution_count": null,
   "metadata": {},
   "outputs": [
    {
     "ename": "NameError",
     "evalue": "name 'Çalışan' is not defined",
     "output_type": "error",
     "traceback": [
      "\u001b[0;31m---------------------------------------------------------------------------\u001b[0m",
      "\u001b[0;31mNameError\u001b[0m                                 Traceback (most recent call last)",
      "Cell \u001b[0;32mIn[10], line 1\u001b[0m\n\u001b[0;32m----> 1\u001b[0m \u001b[38;5;28;01mclass\u001b[39;00m \u001b[38;5;21;01mYönetici\u001b[39;00m(\u001b[43mÇalışan\u001b[49m): \u001b[38;5;66;03m#Çalışan sınıfından miras alıyoruz\u001b[39;00m\n\u001b[1;32m      2\u001b[0m     \u001b[38;5;28;01mdef\u001b[39;00m \u001b[38;5;21mzam_yap\u001b[39m(\u001b[38;5;28mself\u001b[39m, zam_miktarı):\n\u001b[1;32m      3\u001b[0m         \u001b[38;5;28mprint\u001b[39m(\u001b[38;5;124m\"\u001b[39m\u001b[38;5;124mZam Yapılıyor\u001b[39m\u001b[38;5;124m\"\u001b[39m)\n",
      "\u001b[0;31mNameError\u001b[0m: name 'Çalışan' is not defined"
     ]
    }
   ],
   "source": [
    "class Yönetici(Çalışan): #Çalışan sınıfından miras alıyoruz\n",
    "    def zam_yap(self, zam_miktarı):\n",
    "        print(\"Zam Yapılıyor\")\n",
    "        self.maaş += zam_miktarı"
   ]
  },
  {
   "cell_type": "code",
   "execution_count": 5,
   "metadata": {},
   "outputs": [
    {
     "ename": "TypeError",
     "evalue": "Yönetici() takes no arguments",
     "output_type": "error",
     "traceback": [
      "\u001b[0;31m---------------------------------------------------------------------------\u001b[0m",
      "\u001b[0;31mTypeError\u001b[0m                                 Traceback (most recent call last)",
      "Cell \u001b[0;32mIn[5], line 1\u001b[0m\n\u001b[0;32m----> 1\u001b[0m yönetici2 \u001b[38;5;241m=\u001b[39m \u001b[43mYönetici\u001b[49m\u001b[43m(\u001b[49m\u001b[38;5;124;43m'\u001b[39;49m\u001b[38;5;124;43mMahir\u001b[39;49m\u001b[38;5;124;43m'\u001b[39;49m\u001b[43m,\u001b[49m\u001b[43m \u001b[49m\u001b[38;5;241;43m50000\u001b[39;49m\u001b[43m,\u001b[49m\u001b[43m \u001b[49m\u001b[38;5;124;43m'\u001b[39;49m\u001b[38;5;124;43mBilişim\u001b[39;49m\u001b[38;5;124;43m'\u001b[39;49m\u001b[43m)\u001b[49m\n",
      "\u001b[0;31mTypeError\u001b[0m: Yönetici() takes no arguments"
     ]
    }
   ],
   "source": [
    "yönetici2 = Yönetici('Mahir', 50000, 'Bilişim')"
   ]
  },
  {
   "cell_type": "code",
   "execution_count": null,
   "metadata": {},
   "outputs": [
    {
     "ename": "NameError",
     "evalue": "name 'yönetici2' is not defined",
     "output_type": "error",
     "traceback": [
      "\u001b[0;31m---------------------------------------------------------------------------\u001b[0m",
      "\u001b[0;31mNameError\u001b[0m                                 Traceback (most recent call last)",
      "Cell \u001b[0;32mIn[12], line 1\u001b[0m\n\u001b[0;32m----> 1\u001b[0m \u001b[43myönetici2\u001b[49m\u001b[38;5;241m.\u001b[39mzam_yap(\u001b[38;5;241m20000\u001b[39m)\n",
      "\u001b[0;31mNameError\u001b[0m: name 'yönetici2' is not defined"
     ]
    }
   ],
   "source": [
    "yönetici2.zam_yap(20000)"
   ]
  },
  {
   "cell_type": "code",
   "execution_count": null,
   "metadata": {},
   "outputs": [
    {
     "ename": "NameError",
     "evalue": "name 'yönetici2' is not defined",
     "output_type": "error",
     "traceback": [
      "\u001b[0;31m---------------------------------------------------------------------------\u001b[0m",
      "\u001b[0;31mNameError\u001b[0m                                 Traceback (most recent call last)",
      "Cell \u001b[0;32mIn[13], line 1\u001b[0m\n\u001b[0;32m----> 1\u001b[0m \u001b[43myönetici2\u001b[49m\u001b[38;5;241m.\u001b[39mbilgileriGoster()\n",
      "\u001b[0;31mNameError\u001b[0m: name 'yönetici2' is not defined"
     ]
    }
   ],
   "source": [
    "yönetici2.bilgileriGoster()"
   ]
  },
  {
   "cell_type": "markdown",
   "metadata": {},
   "source": [
    "#Overriding (iptal etme)\n",
    "Eğer miras aldığımız methodlar aynı adla kendi sınıfımızda tanımlarsak,artık methodu çağırdığımız zaman aldığımız değil kendi methodumuz çalışcaktır.Buna nesne tabanlı programlamada overriding denir."
   ]
  },
  {
   "cell_type": "code",
   "execution_count": 6,
   "metadata": {},
   "outputs": [],
   "source": [
    "class Çalısan():\n",
    "    def _init__(self,isim,maaş,departman):\n",
    "        self.isim = isim\n",
    "        self.maaş = maaş  #özellikleri tanmladık\n",
    "        self.departman = departman\n",
    "    def bilgileriGoster(self):\n",
    "        print(\"Çalışan Sınıfının Bilgileri......\")   \n",
    "    \n",
    "        \n",
    "        print(f\"\"\"\n",
    "        İsim: {self.isim}\n",
    "\n",
    "        Maaş: {self.maaş}\n",
    "\n",
    "        Departman: {self.departman}\n",
    "        \"\"\")\n",
    "\n",
    "    def departmanDegistir(self,yeni_departman):\n",
    "        print(\"Departman Değiştiriliyor\")\n",
    "        self.departman = yeni_departman\n",
    "    "
   ]
  },
  {
   "cell_type": "code",
   "execution_count": 11,
   "metadata": {},
   "outputs": [
    {
     "ename": "IndentationError",
     "evalue": "expected an indented block after function definition on line 12 (1933067055.py, line 13)",
     "output_type": "error",
     "traceback": [
      "\u001b[0;36m  Cell \u001b[0;32mIn[11], line 13\u001b[0;36m\u001b[0m\n\u001b[0;31m    print(\"Çalışan Sınıfının Bilgileri......\")\u001b[0m\n\u001b[0m    ^\u001b[0m\n\u001b[0;31mIndentationError\u001b[0m\u001b[0;31m:\u001b[0m expected an indented block after function definition on line 12\n"
     ]
    }
   ],
   "source": [
    "class Yönetici(Çalışan):\n",
    "    def __init__(self, isim,maas,departman,kişi_sayısı):\n",
    "        print(\"Yönetici sınıfının init fonksiyonu\")\n",
    "        self.isim = isim\n",
    "        self.maaş = maaş\n",
    "        self.departman = departman\n",
    "        self.kişi_sayısı = kişi_sayısı #yeni eleman ekledik\n",
    "    def zam_yap(self, zam_miktarı):\n",
    "        print(\"Zam Yapılıyor\")   \n",
    "        self.maaş += zam_miktarı\n",
    "\n",
    "        def bilgileriGoster(self):\n",
    "        print(\"Çalışan Sınıfının Bilgileri......\")   \n",
    "    \n",
    "        \n",
    "        print(f\"\"\"\n",
    "        İsim: {self.isim}\n",
    "\n",
    "        Maaş: {self.maaş}\n",
    "\n",
    "        Departman: {self.departman}\n",
    "        \"\"\")\n",
    "\n",
    "    def departmanDegistir(self,yeni_departman):\n",
    "        print(\"Departman Değiştiriliyor\")\n",
    "        self.departman = yeni_departman\n",
    "        sorumlu Kişi_sayısı: {self.kişi_sayısı}"
   ]
  },
  {
   "cell_type": "code",
   "execution_count": 8,
   "metadata": {},
   "outputs": [
    {
     "ename": "TypeError",
     "evalue": "Yönetici() takes no arguments",
     "output_type": "error",
     "traceback": [
      "\u001b[0;31m---------------------------------------------------------------------------\u001b[0m",
      "\u001b[0;31mTypeError\u001b[0m                                 Traceback (most recent call last)",
      "Cell \u001b[0;32mIn[8], line 1\u001b[0m\n\u001b[0;32m----> 1\u001b[0m yönetici3 \u001b[38;5;241m=\u001b[39m \u001b[43mYönetici\u001b[49m\u001b[43m(\u001b[49m\u001b[38;5;124;43m\"\u001b[39;49m\u001b[38;5;124;43mAhmet\u001b[39;49m\u001b[38;5;124;43m\"\u001b[39;49m\u001b[43m,\u001b[49m\u001b[38;5;241;43m60000\u001b[39;49m\u001b[43m \u001b[49m\u001b[43m,\u001b[49m\u001b[38;5;124;43m'\u001b[39;49m\u001b[38;5;124;43mBilişim\u001b[39;49m\u001b[38;5;124;43m'\u001b[39;49m\u001b[43m,\u001b[49m\u001b[38;5;241;43m10\u001b[39;49m\u001b[43m)\u001b[49m\n",
      "\u001b[0;31mTypeError\u001b[0m: Yönetici() takes no arguments"
     ]
    }
   ],
   "source": [
    "yönetici3 = Yönetici(\"Ahmet\",60000 ,'Bilişim',10)"
   ]
  },
  {
   "cell_type": "code",
   "execution_count": null,
   "metadata": {},
   "outputs": [
    {
     "ename": "IndentationError",
     "evalue": "expected an indented block after function definition on line 8 (2472397830.py, line 9)",
     "output_type": "error",
     "traceback": [
      "\u001b[0;36m  Cell \u001b[0;32mIn[12], line 9\u001b[0;36m\u001b[0m\n\u001b[0;31m    print(\"Zam Yapılıyor\")\u001b[0m\n\u001b[0m    ^\u001b[0m\n\u001b[0;31mIndentationError\u001b[0m\u001b[0;31m:\u001b[0m expected an indented block after function definition on line 8\n"
     ]
    }
   ],
   "source": [
    "class Yonetici(Çalışsan):\n",
    "    def __init__(self,isim, maaş, departman, kişi_sayısı):\n",
    "        # sorumlu olduğu kişi sayısı\n",
    "        super().__init__(isim,maaş,departman) # 3 tane özelliği çalışan fonksiyonunun init fonk.la hallediyoruz.\n",
    "        print(\"Yönetici sınıfın init fonksiyonu\")\n",
    "        self.kişi_sayısı = kişi_sayısı #ekstra özelliği kendimiz yazıyoruz\n",
    "\n",
    "    def zam_yap(self, zam_miktarı):\n",
    "            print(\"Zam Yapılıyor\")   \n",
    "            self.maaş += zam_miktarı\n",
    "\n",
    "    def bilgileriGoster(self):\n",
    "            print(\"Çalışan Sınıfının Bilgileri......\")   \n",
    "    \n",
    "        \n",
    "            print(f\"\"\"\n",
    "            İsim: {self.isim}\n",
    "\n",
    "            Maaş: {self.maaş}\n",
    "\n",
    "            Departman: {self.departman}\n",
    "            \"\"\")\n",
    "\n",
    "    def departmanDegistir(self,yeni_departman):\n",
    "        print(\"Departman Değiştiriliyor\")\n",
    "        self.departman = yeni_departman\n",
    "        sorumlu Kişi_sayısı: {self.kişi_sayısı}"
   ]
  },
  {
   "cell_type": "markdown",
   "metadata": {},
   "source": [
    "Burada super().init() diyerek çalışan sınıfının methodunu özel çağırarak isim,maaş,departman özelliklerini methodla belirledik"
   ]
  },
  {
   "cell_type": "code",
   "execution_count": 14,
   "metadata": {},
   "outputs": [
    {
     "ename": "TypeError",
     "evalue": "Yönetici() takes no arguments",
     "output_type": "error",
     "traceback": [
      "\u001b[0;31m---------------------------------------------------------------------------\u001b[0m",
      "\u001b[0;31mTypeError\u001b[0m                                 Traceback (most recent call last)",
      "Cell \u001b[0;32mIn[14], line 1\u001b[0m\n\u001b[0;32m----> 1\u001b[0m yönetici5 \u001b[38;5;241m=\u001b[39m \u001b[43mYönetici\u001b[49m\u001b[43m(\u001b[49m\u001b[38;5;124;43m'\u001b[39;49m\u001b[38;5;124;43mBuse\u001b[39;49m\u001b[38;5;124;43m'\u001b[39;49m\u001b[43m,\u001b[49m\u001b[43m \u001b[49m\u001b[38;5;241;43m40000\u001b[39;49m\u001b[43m,\u001b[49m\u001b[38;5;124;43m'\u001b[39;49m\u001b[38;5;124;43mİnsan Kaynakları\u001b[39;49m\u001b[38;5;124;43m'\u001b[39;49m\u001b[43m,\u001b[49m\u001b[38;5;241;43m4\u001b[39;49m\u001b[43m)\u001b[49m\n",
      "\u001b[0;31mTypeError\u001b[0m: Yönetici() takes no arguments"
     ]
    }
   ],
   "source": [
    "yönetici5 = Yönetici('Buse', 40000,'İnsan Kaynakları',4)"
   ]
  },
  {
   "cell_type": "markdown",
   "metadata": {},
   "source": [
    "İşte inheritance konusu bu kadar,ilk başlarda biraz karışık gelmiş olabilir ama bunu kullana kullana öğreneceğiz."
   ]
  }
 ],
 "metadata": {
  "kernelspec": {
   "display_name": "sanal_ortam",
   "language": "python",
   "name": "python3"
  },
  "language_info": {
   "codemirror_mode": {
    "name": "ipython",
    "version": 3
   },
   "file_extension": ".py",
   "mimetype": "text/x-python",
   "name": "python",
   "nbconvert_exporter": "python",
   "pygments_lexer": "ipython3",
   "version": "3.12.1"
  }
 },
 "nbformat": 4,
 "nbformat_minor": 2
}
