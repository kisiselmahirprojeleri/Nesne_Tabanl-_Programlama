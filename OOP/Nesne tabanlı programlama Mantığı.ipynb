{
 "cells": [
  {
   "cell_type": "markdown",
   "metadata": {},
   "source": [
    "# Nesne Tabanlı Programlama Mantığı\n"
   ]
  },
  {
   "cell_type": "markdown",
   "metadata": {},
   "source": [
    "Bu konuyla beraber nesne tabanlı programlamaya girişi yapıyoruz ve bu konuda nesne tabanlı programlama hakkında konuşacağız.Nesne tabanlı programlama ingilizce ismiyle ** object oriented programming** en basit anlamıyla gerçek hayatı uyarlamak için düşünülebilir.Örneğin bir öğrenci otomasyon sistemi yazmak istiyoruz.Bunun için öğretmenleri,öğrencileri ve kursları aslında birer nesne olarak oluşturmamız gerekiyor.Böyle bir sistemi programlamaya gerçekleştirmek için aslında her nesnenin yapısını tanımlayıp daha sonra bu yapılardan nesneler üretmemiz gerekiyor.İşte nesne tabanlı programlama en basit anlamıyla bu şekildedir.Şimdi obje veya nesne nedir anlamaya çalışalım.\n"
   ]
  },
  {
   "cell_type": "markdown",
   "metadata": {},
   "source": [
    "Obje nedir"
   ]
  },
  {
   "cell_type": "markdown",
   "metadata": {},
   "source": [
    "Etrafımıza baktığımızda aslında her şeyin bir eşyanın objesi olduğunu görüyoruz.Örneğin bir tane televizyon kumandasını düşünelim.Bu kumandanın kendi değişik özellikleri ve fonkfiyonları(method) bulunuyor.Kumandanın kırmızı tuşuna bastığımızda tv nin kapanması ve ses kapatma düğmesine bastığımızda sesin kısılması bu kumandanın methodlarıdır.Bunun gibi pythondaki her şey aslında bir obedir.Örneğin listelere bakacak olursak bu liste objenin bir methodu ve özelliği bulunur."
   ]
  },
  {
   "cell_type": "code",
   "execution_count": 1,
   "metadata": {},
   "outputs": [],
   "source": [
    "liste = [1,2,3,4,5] #Liste objesi oluşturduk"
   ]
  },
  {
   "cell_type": "code",
   "execution_count": 4,
   "metadata": {},
   "outputs": [
    {
     "name": "stdout",
     "output_type": "stream",
     "text": [
      "[1, 2, 3, 4, 5, 6, 6, 6]\n"
     ]
    }
   ],
   "source": [
    "liste.append(6) # Append Methodu\n",
    "print(liste)"
   ]
  },
  {
   "cell_type": "code",
   "execution_count": 5,
   "metadata": {},
   "outputs": [
    {
     "name": "stdout",
     "output_type": "stream",
     "text": [
      "<class 'list'>\n"
     ]
    }
   ],
   "source": [
    "print(type(liste)) # class list"
   ]
  },
  {
   "cell_type": "code",
   "execution_count": 6,
   "metadata": {},
   "outputs": [],
   "source": [
    "def toplama(a,b):\n",
    "    return a + b"
   ]
  },
  {
   "cell_type": "code",
   "execution_count": 7,
   "metadata": {},
   "outputs": [
    {
     "name": "stdout",
     "output_type": "stream",
     "text": [
      "<class 'list'>\n"
     ]
    }
   ],
   "source": [
    "print(type(liste)) # function classından toplama isimli bir nesne oluşturduk"
   ]
  },
  {
   "cell_type": "markdown",
   "metadata": {},
   "source": [
    "Şimdi kendi sınıflarımızı ve nesnelerimizi oluşturalım."
   ]
  }
 ],
 "metadata": {
  "kernelspec": {
   "display_name": "sanal_ortam",
   "language": "python",
   "name": "python3"
  },
  "language_info": {
   "codemirror_mode": {
    "name": "ipython",
    "version": 3
   },
   "file_extension": ".py",
   "mimetype": "text/x-python",
   "name": "python",
   "nbconvert_exporter": "python",
   "pygments_lexer": "ipython3",
   "version": "3.12.1"
  }
 },
 "nbformat": 4,
 "nbformat_minor": 2
}
