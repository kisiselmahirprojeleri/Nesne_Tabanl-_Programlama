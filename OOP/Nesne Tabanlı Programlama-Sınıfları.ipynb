{
 "cells": [
  {
   "cell_type": "markdown",
   "metadata": {},
   "source": [
    "# Nesne Tabanlı Programlama-Sınıflar\n",
    "\n",
    "Bu konuda artık kendi veri tiplerimizi ve objelerimizi üretmeye başlayacağız\n",
    "\n",
    "Kendi veri tiplerimizi oluşturmak ve bu veri tiplerinden objeler üretmemiz için öncelikle objeleri üreteceğimiz yapıyı tanımlamamız gerekiyor.Bunun tasarladığımız yapıya da sınıf veya ing. de class diyoruz.Şimdi sınıf yapılarına bakalım."
   ]
  },
  {
   "cell_type": "markdown",
   "metadata": {},
   "source": [
    "Class Anahtar Kelimesi"
   ]
  },
  {
   "cell_type": "markdown",
   "metadata": {},
   "source": [
    "Sınıflar veya classlar objeleri oluştururken objelerin özelliklerini ve methodlarını tanımladığımız anlamına geliyor. Biz her bir olayı bu yapıya göre üretiriz. Bir araba classı tanımlayarak yapımızı kurmaya başlayalım."
   ]
  },
  {
   "cell_type": "code",
   "execution_count": 1,
   "metadata": {},
   "outputs": [],
   "source": [
    "# Yeni bir araba veri tipi oluşturuyoruz.\n",
    "class Araba():\n",
    "    model = 'BMW 3'\n",
    "    renk = 'Siyah'\n",
    "    beygir_gücü = 170\n",
    "    silindir = 4 # sınıfımızın özelliklerini oluşturduk"
   ]
  },
  {
   "cell_type": "markdown",
   "metadata": {},
   "source": [
    "Sınıfımızda python tanımladık.Peki bu sınıftan obje nasıl oluşturacağız?Bunu da şu şekilde tanımlıyoruz.\n",
    "                                 obje_ismi = Sınıf_ismi(parametreler(opsiyonel))"
   ]
  },
  {
   "cell_type": "code",
   "execution_count": 2,
   "metadata": {},
   "outputs": [],
   "source": [
    "araba1 = Araba() # Araba veri tipinden bir \"araba1\" isminde obje oluşturduk"
   ]
  },
  {
   "cell_type": "code",
   "execution_count": 3,
   "metadata": {},
   "outputs": [
    {
     "data": {
      "text/plain": [
       "<__main__.Araba at 0x7e67c1dd3aa0>"
      ]
     },
     "execution_count": 3,
     "metadata": {},
     "output_type": "execute_result"
    }
   ],
   "source": [
    "araba1 #objemizin veri tipi Araba'dır"
   ]
  },
  {
   "cell_type": "code",
   "execution_count": 4,
   "metadata": {},
   "outputs": [
    {
     "name": "stdout",
     "output_type": "stream",
     "text": [
      "<class '__main__.Araba'>\n"
     ]
    }
   ],
   "source": [
    "print(type(araba1))"
   ]
  },
  {
   "cell_type": "markdown",
   "metadata": {},
   "source": [
    "araba1 objesi artık tanımladığımız bütün özelliklere(attributes) sahip olmuş oldu.İşte sınıf ve obje üretmek bu şekilde olmaktadır.Peki bu araba objesinin özelliklerini nasıl görebiliriz?"
   ]
  },
  {
   "cell_type": "code",
   "execution_count": 5,
   "metadata": {},
   "outputs": [
    {
     "data": {
      "text/plain": [
       "170"
      ]
     },
     "execution_count": 5,
     "metadata": {},
     "output_type": "execute_result"
    }
   ],
   "source": [
    "araba1.beygir_gücü"
   ]
  },
  {
   "cell_type": "code",
   "execution_count": 6,
   "metadata": {},
   "outputs": [
    {
     "data": {
      "text/plain": [
       "'BMW 3'"
      ]
     },
     "execution_count": 6,
     "metadata": {},
     "output_type": "execute_result"
    }
   ],
   "source": [
    "araba1.model"
   ]
  },
  {
   "cell_type": "code",
   "execution_count": 7,
   "metadata": {},
   "outputs": [
    {
     "data": {
      "text/plain": [
       "'Siyah'"
      ]
     },
     "execution_count": 7,
     "metadata": {},
     "output_type": "execute_result"
    }
   ],
   "source": [
    "araba1.renk"
   ]
  },
  {
   "cell_type": "code",
   "execution_count": 8,
   "metadata": {},
   "outputs": [
    {
     "data": {
      "text/plain": [
       "4"
      ]
     },
     "execution_count": 8,
     "metadata": {},
     "output_type": "execute_result"
    }
   ],
   "source": [
    "araba1.silindir"
   ]
  },
  {
   "cell_type": "markdown",
   "metadata": {},
   "source": [
    "Şimdi de başka bir araba objesi oluşturalım."
   ]
  },
  {
   "cell_type": "code",
   "execution_count": 9,
   "metadata": {},
   "outputs": [],
   "source": [
    "araba2 = Araba()"
   ]
  },
  {
   "cell_type": "code",
   "execution_count": 10,
   "metadata": {},
   "outputs": [
    {
     "data": {
      "text/plain": [
       "'BMW 3'"
      ]
     },
     "execution_count": 10,
     "metadata": {},
     "output_type": "execute_result"
    }
   ],
   "source": [
    "araba2.model"
   ]
  },
  {
   "cell_type": "code",
   "execution_count": 11,
   "metadata": {},
   "outputs": [
    {
     "data": {
      "text/plain": [
       "170"
      ]
     },
     "execution_count": 11,
     "metadata": {},
     "output_type": "execute_result"
    }
   ],
   "source": [
    "araba2.beygir_gücü"
   ]
  },
  {
   "cell_type": "code",
   "execution_count": 12,
   "metadata": {},
   "outputs": [
    {
     "data": {
      "text/plain": [
       "'Siyah'"
      ]
     },
     "execution_count": 12,
     "metadata": {},
     "output_type": "execute_result"
    }
   ],
   "source": [
    "araba2.renk"
   ]
  },
  {
   "cell_type": "markdown",
   "metadata": {},
   "source": [
    "Burada gördüğümüz gibi objelerin buradaki model,renk,vb özellikleri aynıdır.Çünkü aslında burada tanımladığımız özellikler birer sınıfın özelliğidir.Yani burada bir obje oluşturduğumuzda bu özelliklerin varsayılan olarak meydana gelir.Bu özelliklerin değerlerine herhangi bir obje oluşturmadan da erişebiliriz."
   ]
  },
  {
   "cell_type": "markdown",
   "metadata": {},
   "source": [
    "Bizim her objeyi başta farklı değerlerle oluşturmamız için her bir objeyi oluştururken objenin değerlerini göndermemiz gerekiyor.Bunun için de özel bir methodu kullanmamız gerekiyor.Peki bu method nedir?İsterseniz ilk olarak dir() fonk. yardımıyla araba1 objemizde neler var bakalım."
   ]
  },
  {
   "cell_type": "code",
   "execution_count": 13,
   "metadata": {},
   "outputs": [
    {
     "data": {
      "text/plain": [
       "['__class__',\n",
       " '__delattr__',\n",
       " '__dict__',\n",
       " '__dir__',\n",
       " '__doc__',\n",
       " '__eq__',\n",
       " '__format__',\n",
       " '__ge__',\n",
       " '__getattribute__',\n",
       " '__getstate__',\n",
       " '__gt__',\n",
       " '__hash__',\n",
       " '__init__',\n",
       " '__init_subclass__',\n",
       " '__le__',\n",
       " '__lt__',\n",
       " '__module__',\n",
       " '__ne__',\n",
       " '__new__',\n",
       " '__reduce__',\n",
       " '__reduce_ex__',\n",
       " '__repr__',\n",
       " '__setattr__',\n",
       " '__sizeof__',\n",
       " '__str__',\n",
       " '__subclasshook__',\n",
       " '__weakref__',\n",
       " 'beygir_gücü',\n",
       " 'model',\n",
       " 'renk',\n",
       " 'silindir']"
      ]
     },
     "execution_count": 13,
     "metadata": {},
     "output_type": "execute_result"
    }
   ],
   "source": [
    "dir(araba1)"
   ]
  },
  {
   "cell_type": "markdown",
   "metadata": {},
   "source": [
    "Burada objenin tüm özelliklerini ve methodlarını görüyoruz.Ancak biz herhangi bir method tanımlanmamıştır.Burda methodlar python tarafından bir obje oluşturulduğunda özel olarak tanımlanan methodlardır ve özel olarak method tanımlamazsak python kendisi bunları varsayılan olarak tanımlıyor.Burda aynı zamanda _initt_methodu yapıcı(constructor) fonksiyon olarak tanımlanmaktadır.Bu method objelerimizi oluştururken otomatik olarak çağırılan ilk methodtur.Bu methodu özel olarak tanımlayarak objelerimizi farklı değerlerle başlatabiliriz.Peki bu methodu nasıl tanlayacağız örnekle gösterelim."
   ]
  },
  {
   "cell_type": "code",
   "execution_count": 14,
   "metadata": {},
   "outputs": [
    {
     "ename": "SyntaxError",
     "evalue": "invalid syntax (3756356207.py, line 4)",
     "output_type": "error",
     "traceback": [
      "\u001b[0;36m  Cell \u001b[0;32mIn[14], line 4\u001b[0;36m\u001b[0m\n\u001b[0;31m    def_init_(self):\u001b[0m\n\u001b[0m                   ^\u001b[0m\n\u001b[0;31mSyntaxError\u001b[0m\u001b[0;31m:\u001b[0m invalid syntax\n"
     ]
    }
   ],
   "source": [
    "# Araba Veri Tipi\n",
    "class Araba():\n",
    "    #   Şimdilik Class Özelliklerine ihtiyaç yok\n",
    "    def_init_(self):\n",
    "    print(\"init fonksiyonu çağırıldı\")"
   ]
  },
  {
   "cell_type": "code",
   "execution_count": 15,
   "metadata": {},
   "outputs": [],
   "source": [
    "araba1 = Araba() #araba1 objesini oluştururken otomatik olarak _init_ methodu çağırılır"
   ]
  },
  {
   "cell_type": "markdown",
   "metadata": {},
   "source": [
    "Peki burada self ne anlama geliyor. **self** anahtar kelimesi objeyi oluşturduğumuz zaman o objeyi gösteren bir referanstır ve methodlarımızda en başta bulunması gereken bir parametredir.Yani biz bir objenin bütün özelliklerini ve methodlarını bu referans üzerinden kullanabiliriz.\n",
    "\n",
    "**objeler** oluştururken,python bu referansı methodlara otomatik olarak kebdisi gönderir.Özel olarak self göndermemize gerek yoktur.\n",
    "init methodunu ve self'i iyi anlamak için objelerimize özellikler ekleyelim."
   ]
  },
  {
   "cell_type": "code",
   "execution_count": 20,
   "metadata": {},
   "outputs": [],
   "source": [
    "class Araba():\n",
    "    def _init_(self,model,renk,beygir_gücü,silindir): #parametrelerimzin değerlerini objeyi oluşturuken göreceğiz.\n",
    "        self.model = model # self.özellik_ismi = parametre değeri şeklinde objemizin model özelliğine göre değeri atıyoruz\n",
    "        self.renk = renk #self.özellik_ismi = = parametre değeri şeklinde objemizin renk özelliğine değeri atıyoruz\n",
    "        self.beygir_gücü = beygir_gücü # self.özellik_ismi = parametre değeri şeklinde objemizin beygir_gücü özelliğine değer atıyoruz\n",
    "        self.silindir = silindir # self.özellik_ismi = parametre değeri şeklinde objemizin silindir özelliğine değer atıyoruz"
   ]
  },
  {
   "cell_type": "code",
   "execution_count": 37,
   "metadata": {},
   "outputs": [
    {
     "ename": "TypeError",
     "evalue": "Araba() takes no arguments",
     "output_type": "error",
     "traceback": [
      "\u001b[0;31m---------------------------------------------------------------------------\u001b[0m",
      "\u001b[0;31mTypeError\u001b[0m                                 Traceback (most recent call last)",
      "Cell \u001b[0;32mIn[37], line 3\u001b[0m\n\u001b[1;32m      1\u001b[0m \u001b[38;5;66;03m#araba1 objesini oluşturalım\u001b[39;00m\n\u001b[1;32m      2\u001b[0m \u001b[38;5;66;03m#Artık değerlerimizi göndererek objemizin özelliklerini istedğimiz değerlerle başlatabiliriz\u001b[39;00m\n\u001b[0;32m----> 3\u001b[0m araba1 \u001b[38;5;241m=\u001b[39m \u001b[43mAraba\u001b[49m\u001b[43m(\u001b[49m\u001b[38;5;124;43m'\u001b[39;49m\u001b[38;5;124;43mPeugeot 308\u001b[39;49m\u001b[38;5;124;43m'\u001b[39;49m\u001b[43m,\u001b[49m\u001b[43m \u001b[49m\u001b[38;5;124;43m'\u001b[39;49m\u001b[38;5;124;43mBeyaz\u001b[39;49m\u001b[38;5;124;43m'\u001b[39;49m\u001b[43m,\u001b[49m\u001b[38;5;241;43m90\u001b[39;49m\u001b[43m,\u001b[49m\u001b[43m \u001b[49m\u001b[38;5;241;43m4\u001b[39;49m\u001b[43m)\u001b[49m\n",
      "\u001b[0;31mTypeError\u001b[0m: Araba() takes no arguments"
     ]
    }
   ],
   "source": [
    "#araba1 objesini oluşturalım\n",
    "#Artık değerlerimizi göndererek objemizin özelliklerini istedğimiz değerlerle başlatabiliriz\n",
    "araba1 = Araba('Peugeot 308', 'Beyaz',90, 4)"
   ]
  },
  {
   "cell_type": "code",
   "execution_count": 35,
   "metadata": {},
   "outputs": [
    {
     "ename": "TypeError",
     "evalue": "Araba() takes no arguments",
     "output_type": "error",
     "traceback": [
      "\u001b[0;31m---------------------------------------------------------------------------\u001b[0m",
      "\u001b[0;31mTypeError\u001b[0m                                 Traceback (most recent call last)",
      "Cell \u001b[0;32mIn[35], line 1\u001b[0m\n\u001b[0;32m----> 1\u001b[0m araba2 \u001b[38;5;241m=\u001b[39m \u001b[43mAraba\u001b[49m\u001b[43m(\u001b[49m\u001b[38;5;124;43m'\u001b[39;49m\u001b[38;5;124;43mRenault Megane\u001b[39;49m\u001b[38;5;124;43m'\u001b[39;49m\u001b[43m \u001b[49m\u001b[43m,\u001b[49m\u001b[38;5;124;43m'\u001b[39;49m\u001b[38;5;124;43mBeyaz\u001b[39;49m\u001b[38;5;124;43m'\u001b[39;49m\u001b[43m,\u001b[49m\u001b[38;5;241;43m110\u001b[39;49m\u001b[43m,\u001b[49m\u001b[38;5;241;43m4\u001b[39;49m\u001b[43m)\u001b[49m\n",
      "\u001b[0;31mTypeError\u001b[0m: Araba() takes no arguments"
     ]
    }
   ],
   "source": [
    "araba2 = Araba('Renault Megane' ,'Beyaz',110,4)"
   ]
  },
  {
   "cell_type": "code",
   "execution_count": 26,
   "metadata": {},
   "outputs": [
    {
     "data": {
      "text/plain": [
       "'BMW 3'"
      ]
     },
     "execution_count": 26,
     "metadata": {},
     "output_type": "execute_result"
    }
   ],
   "source": [
    "araba1.model"
   ]
  },
  {
   "cell_type": "code",
   "execution_count": 27,
   "metadata": {},
   "outputs": [
    {
     "data": {
      "text/plain": [
       "'BMW 3'"
      ]
     },
     "execution_count": 27,
     "metadata": {},
     "output_type": "execute_result"
    }
   ],
   "source": [
    "araba2.model"
   ]
  },
  {
   "cell_type": "markdown",
   "metadata": {},
   "source": [
    "İşte burada gördüğümüz gibi her bir objeyi init methodunu kendimiz yazarak farklı değerlerle oluşturabiliyoruz.Bir sonraki konuda kendi methodlarımızı nasıl yazacağız ona bakacağız."
   ]
  },
  {
   "cell_type": "code",
   "execution_count": null,
   "metadata": {},
   "outputs": [],
   "source": []
  },
  {
   "cell_type": "code",
   "execution_count": null,
   "metadata": {},
   "outputs": [],
   "source": []
  }
 ],
 "metadata": {
  "kernelspec": {
   "display_name": "sanal_ortam",
   "language": "python",
   "name": "python3"
  },
  "language_info": {
   "codemirror_mode": {
    "name": "ipython",
    "version": 3
   },
   "file_extension": ".py",
   "mimetype": "text/x-python",
   "name": "python",
   "nbconvert_exporter": "python",
   "pygments_lexer": "ipython3",
   "version": "3.12.1"
  }
 },
 "nbformat": 4,
 "nbformat_minor": 2
}
